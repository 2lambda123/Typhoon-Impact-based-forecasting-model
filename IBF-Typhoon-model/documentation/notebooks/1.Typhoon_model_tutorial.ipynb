{
 "cells": [
  {
   "cell_type": "markdown",
   "metadata": {},
   "source": [
    "## A Guide for developing Typhoon impact prediction model  \n",
    "\n",
    "The guideline is divided in to the following four steps \n",
    "\n",
    "1. Download and Process rainfall data for Historical typhoon events\n",
    "2. download and process typhoon data (wind speed/ Track distance) for historical event\n",
    "3. Process pre disaster indicators and  Damage/Loss data (Prepare model input)\n",
    "4. Build Machin learning model \n",
    "    a) model training and hyper paramerer optimization\n",
    "    b) optimal model result \n"
   ]
  },
  {
   "cell_type": "markdown",
   "metadata": {},
   "source": [
    "### 1. Download and process rainfall data\n",
    "[Download historical rainfall data](./rainfalldownload.ipynb)"
   ]
  },
  {
   "cell_type": "markdown",
   "metadata": {},
   "source": [
    "### 2. Download and process typhoon data\n",
    "[Download historical typhoon data](./windfield.ipynb)"
   ]
  },
  {
   "cell_type": "markdown",
   "metadata": {},
   "source": [
    "### 3. Process data for pre disaser indicators, damage loss data and prepare model input \n",
    "[Process pre disaster indicators](./pre_disaster_indicators_updated.ipynb)"
   ]
  },
  {
   "cell_type": "markdown",
   "metadata": {},
   "source": [
    "### 4. Build Machin learning model \n",
    "a) Binary Classification\n",
    "* classification Model [training and Hyper paramerer optimization](./classification_model.ipynb)\n",
    "* Classification Model [result](./classification_model_result.ipynb)\n",
    "\n",
    "b) Regression \n",
    "* Regression Model [training and Hyper paramerer optimization](./regression_model.ipynb)\n",
    "* Regression model [result](./Regression_model_result.ipynb)\n"
   ]
  }
 ],
 "metadata": {
  "kernelspec": {
   "display_name": "Python 3.8.10 ('geo_env')",
   "language": "python",
   "name": "python3"
  },
  "language_info": {
   "codemirror_mode": {
    "name": "ipython",
    "version": 3
   },
   "file_extension": ".py",
   "mimetype": "text/x-python",
   "name": "python",
   "nbconvert_exporter": "python",
   "pygments_lexer": "ipython3",
   "version": "3.8.10"
  },
  "vscode": {
   "interpreter": {
    "hash": "c56dc72bed4e123c21144b1399355bbd07b8d587f6360d6b6ea22ee2ab335a35"
   }
  }
 },
 "nbformat": 4,
 "nbformat_minor": 2
}
