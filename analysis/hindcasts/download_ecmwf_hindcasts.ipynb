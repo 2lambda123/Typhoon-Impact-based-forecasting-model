{
 "cells": [
  {
   "cell_type": "markdown",
   "id": "47c17dcd-992a-40e6-9fb2-b5870a386561",
   "metadata": {},
   "source": [
    "## Download ECMWF xml"
   ]
  },
  {
   "cell_type": "code",
   "execution_count": 115,
   "id": "c686d0bd-5b1a-4df9-8a53-491f6452654e",
   "metadata": {},
   "outputs": [],
   "source": [
    "import sys, os\n",
    "import requests\n",
    "import getpass\n",
    "from datetime import datetime\n",
    "from pathlib import Path\n",
    "import re\n",
    "\n",
    "import pandas as pd\n",
    "import xml.etree.ElementTree as ET\n",
    "from dateutil import rrule"
   ]
  },
  {
   "cell_type": "code",
   "execution_count": 116,
   "id": "4049d1fa-7f65-41de-92d5-d29bc90c8bad",
   "metadata": {},
   "outputs": [],
   "source": [
    "save_dir = Path(\"/home/turnerm/sync/aa_repo_data/Data/public/exploration/phl/ecmwf_hindcast\")"
   ]
  },
  {
   "cell_type": "markdown",
   "id": "f0daafc8-56ab-4af3-b2d6-048f6224450f",
   "metadata": {
    "tags": []
   },
   "source": [
    "## Get typhoon names"
   ]
  },
  {
   "cell_type": "code",
   "execution_count": 46,
   "id": "433c65c3-30c7-4668-be8e-7ba7ebb5083b",
   "metadata": {},
   "outputs": [],
   "source": [
    "filename = \"../../IBF-Typhoon-model/data/wind_data/input/typhoon_events.csv\"\n",
    "df_typhoons = pd.read_csv(filename)\n",
    "df_typhoons.columns = [\"local\", \"international\", \"year\"]\n",
    "for cname in [\"local\", \"international\"]:\n",
    "    df_typhoons[cname] = df_typhoons[cname].str.lower()"
   ]
  },
  {
   "cell_type": "markdown",
   "id": "a13a63a1-e9b4-4c04-a528-e666d207e3b1",
   "metadata": {},
   "source": [
    "## Convert to CSV"
   ]
  },
  {
   "cell_type": "code",
   "execution_count": 111,
   "id": "58f882ba-15d3-4aff-a549-9b2d31441b94",
   "metadata": {},
   "outputs": [],
   "source": [
    "def xml2csv(filename):\n",
    "    #print(f\"{filename}\")\n",
    "    tree = ET.parse(filename)\n",
    "    root = tree.getroot()\n",
    "    try:\n",
    "        model_name=root.find('header/generatingApplication/model/name').text \n",
    "    except AttributeError:\n",
    "        model_name = ''\n",
    "\n",
    "    prod_center=root.find('header/productionCenter').text\n",
    "    baseTime=root.find('header/baseTime').text\n",
    "\n",
    "    ## Create one dictonary for each time point, and append it to a list\n",
    "    for members in root.findall('data'):\n",
    "        mtype=members.get('type')\n",
    "        if mtype not in ['forecast', 'ensembleForecast']:\n",
    "            continue\n",
    "        for members2 in members.findall('disturbance'):\n",
    "            cyclone_name = [name.text.lower().strip() for name in members2.findall('cycloneName')]\n",
    "            if not cyclone_name:\n",
    "                continue\n",
    "            cyclone_name = cyclone_name[0].lower()\n",
    "            if cyclone_name not in list(df_typhoons[\"international\"]):\n",
    "                continue\n",
    "            # print(f\"Found typhoon {cyclone_name}\")\n",
    "            for members3 in members2.findall('fix'):\n",
    "                tem_dic = {}\n",
    "                tem_dic['mtype']=[mtype]\n",
    "                tem_dic['product']=[re.sub('\\s+',' ',prod_center).strip().lower()]\n",
    "                tem_dic['cyc_number'] = [name.text for name in members2.findall('cycloneNumber')]\n",
    "                tem_dic['ensemble']=[members.get('member')]\n",
    "                tem_dic['speed'] = [name.text for name in members3.findall('cycloneData/maximumWind/speed')]\n",
    "                tem_dic['pressure'] = [name.text for name in members3.findall('cycloneData/minimumPressure/pressure')]\n",
    "                time = [name.text for name in members3.findall('validTime')]\n",
    "                tem_dic['time'] = ['/'.join(time[0].split('T')[0].split('-'))+', '+time[0].split('T')[1][:-1]]\n",
    "                tem_dic['lat'] = [name.text for name in members3.findall('latitude')]\n",
    "                tem_dic['lon']= [name.text for name in members3.findall('longitude')] \n",
    "                tem_dic['lead_time']=[members3.get('hour')]\n",
    "                tem_dic['forecast_time'] = ['/'.join(baseTime.split('T')[0].split('-'))+', '+baseTime.split('T')[1][:-1]]\n",
    "                tem_dic1 = dict( [(k,''.join(str(e).lower().strip() for e in v)) for k,v in tem_dic.items()])\n",
    "                # Save to CSV\n",
    "                outfile = save_dir / f\"csv/{cyclone_name}_all.csv\"\n",
    "                pd.DataFrame(tem_dic1, index=[0]).to_csv(outfile, mode='a', header=not os.path.exists(outfile), index=False)\n",
    "            "
   ]
  },
  {
   "cell_type": "code",
   "execution_count": 112,
   "id": "5f04a32e-a0d2-4402-b3f3-44f64d3a1556",
   "metadata": {
    "tags": []
   },
   "outputs": [
    {
     "ename": "KeyboardInterrupt",
     "evalue": "",
     "output_type": "error",
     "traceback": [
      "\u001b[0;31m---------------------------------------------------------------------------\u001b[0m",
      "\u001b[0;31mKeyboardInterrupt\u001b[0m                         Traceback (most recent call last)",
      "Input \u001b[0;32mIn [112]\u001b[0m, in \u001b[0;36m<cell line: 3>\u001b[0;34m()\u001b[0m\n\u001b[1;32m      2\u001b[0m filename_list \u001b[38;5;241m=\u001b[39m \u001b[38;5;28msorted\u001b[39m(\u001b[38;5;28mlist\u001b[39m(Path(save_dir \u001b[38;5;241m/\u001b[39m \u001b[38;5;124m\"\u001b[39m\u001b[38;5;124mxml\u001b[39m\u001b[38;5;124m\"\u001b[39m)\u001b[38;5;241m.\u001b[39mglob(\u001b[38;5;124m'\u001b[39m\u001b[38;5;124m*.xml\u001b[39m\u001b[38;5;124m'\u001b[39m)))\n\u001b[1;32m      3\u001b[0m \u001b[38;5;28;01mfor\u001b[39;00m filename \u001b[38;5;129;01min\u001b[39;00m filename_list:\n\u001b[0;32m----> 4\u001b[0m     \u001b[43mxml2csv\u001b[49m\u001b[43m(\u001b[49m\u001b[43mfilename\u001b[49m\u001b[43m)\u001b[49m\n",
      "Input \u001b[0;32mIn [111]\u001b[0m, in \u001b[0;36mxml2csv\u001b[0;34m(filename)\u001b[0m\n\u001b[1;32m     42\u001b[0m \u001b[38;5;66;03m# Save to CSV\u001b[39;00m\n\u001b[1;32m     43\u001b[0m outfile \u001b[38;5;241m=\u001b[39m save_dir \u001b[38;5;241m/\u001b[39m \u001b[38;5;124mf\u001b[39m\u001b[38;5;124m\"\u001b[39m\u001b[38;5;124mcsv/\u001b[39m\u001b[38;5;132;01m{\u001b[39;00mcyclone_name\u001b[38;5;132;01m}\u001b[39;00m\u001b[38;5;124m_all.csv\u001b[39m\u001b[38;5;124m\"\u001b[39m\n\u001b[0;32m---> 44\u001b[0m \u001b[43mpd\u001b[49m\u001b[38;5;241;43m.\u001b[39;49m\u001b[43mDataFrame\u001b[49m\u001b[43m(\u001b[49m\u001b[43mtem_dic1\u001b[49m\u001b[43m,\u001b[49m\u001b[43m \u001b[49m\u001b[43mindex\u001b[49m\u001b[38;5;241;43m=\u001b[39;49m\u001b[43m[\u001b[49m\u001b[38;5;241;43m0\u001b[39;49m\u001b[43m]\u001b[49m\u001b[43m)\u001b[49m\u001b[38;5;241m.\u001b[39mto_csv(outfile, mode\u001b[38;5;241m=\u001b[39m\u001b[38;5;124m'\u001b[39m\u001b[38;5;124ma\u001b[39m\u001b[38;5;124m'\u001b[39m, header\u001b[38;5;241m=\u001b[39m\u001b[38;5;129;01mnot\u001b[39;00m os\u001b[38;5;241m.\u001b[39mpath\u001b[38;5;241m.\u001b[39mexists(outfile), index\u001b[38;5;241m=\u001b[39m\u001b[38;5;28;01mFalse\u001b[39;00m)\n",
      "File \u001b[0;32m~/sync/Typhoon-Impact-based-forecasting-model/venv/lib/python3.8/site-packages/pandas/core/frame.py:614\u001b[0m, in \u001b[0;36mDataFrame.__init__\u001b[0;34m(self, data, index, columns, dtype, copy)\u001b[0m\n\u001b[1;32m    608\u001b[0m     mgr \u001b[38;5;241m=\u001b[39m \u001b[38;5;28mself\u001b[39m\u001b[38;5;241m.\u001b[39m_init_mgr(\n\u001b[1;32m    609\u001b[0m         data, axes\u001b[38;5;241m=\u001b[39m{\u001b[38;5;124m\"\u001b[39m\u001b[38;5;124mindex\u001b[39m\u001b[38;5;124m\"\u001b[39m: index, \u001b[38;5;124m\"\u001b[39m\u001b[38;5;124mcolumns\u001b[39m\u001b[38;5;124m\"\u001b[39m: columns}, dtype\u001b[38;5;241m=\u001b[39mdtype, copy\u001b[38;5;241m=\u001b[39mcopy\n\u001b[1;32m    610\u001b[0m     )\n\u001b[1;32m    612\u001b[0m \u001b[38;5;28;01melif\u001b[39;00m \u001b[38;5;28misinstance\u001b[39m(data, \u001b[38;5;28mdict\u001b[39m):\n\u001b[1;32m    613\u001b[0m     \u001b[38;5;66;03m# GH#38939 de facto copy defaults to False only in non-dict cases\u001b[39;00m\n\u001b[0;32m--> 614\u001b[0m     mgr \u001b[38;5;241m=\u001b[39m \u001b[43mdict_to_mgr\u001b[49m\u001b[43m(\u001b[49m\u001b[43mdata\u001b[49m\u001b[43m,\u001b[49m\u001b[43m \u001b[49m\u001b[43mindex\u001b[49m\u001b[43m,\u001b[49m\u001b[43m \u001b[49m\u001b[43mcolumns\u001b[49m\u001b[43m,\u001b[49m\u001b[43m \u001b[49m\u001b[43mdtype\u001b[49m\u001b[38;5;241;43m=\u001b[39;49m\u001b[43mdtype\u001b[49m\u001b[43m,\u001b[49m\u001b[43m \u001b[49m\u001b[43mcopy\u001b[49m\u001b[38;5;241;43m=\u001b[39;49m\u001b[43mcopy\u001b[49m\u001b[43m,\u001b[49m\u001b[43m \u001b[49m\u001b[43mtyp\u001b[49m\u001b[38;5;241;43m=\u001b[39;49m\u001b[43mmanager\u001b[49m\u001b[43m)\u001b[49m\n\u001b[1;32m    615\u001b[0m \u001b[38;5;28;01melif\u001b[39;00m \u001b[38;5;28misinstance\u001b[39m(data, ma\u001b[38;5;241m.\u001b[39mMaskedArray):\n\u001b[1;32m    616\u001b[0m     \u001b[38;5;28;01mimport\u001b[39;00m \u001b[38;5;21;01mnumpy\u001b[39;00m\u001b[38;5;21;01m.\u001b[39;00m\u001b[38;5;21;01mma\u001b[39;00m\u001b[38;5;21;01m.\u001b[39;00m\u001b[38;5;21;01mmrecords\u001b[39;00m \u001b[38;5;28;01mas\u001b[39;00m \u001b[38;5;21;01mmrecords\u001b[39;00m\n",
      "File \u001b[0;32m~/sync/Typhoon-Impact-based-forecasting-model/venv/lib/python3.8/site-packages/pandas/core/internals/construction.py:449\u001b[0m, in \u001b[0;36mdict_to_mgr\u001b[0;34m(data, index, columns, dtype, typ, copy)\u001b[0m\n\u001b[1;32m    446\u001b[0m     \u001b[38;5;66;03m# GH#24096 need copy to be deep for datetime64tz case\u001b[39;00m\n\u001b[1;32m    447\u001b[0m     \u001b[38;5;66;03m# TODO: See if we can avoid these copies\u001b[39;00m\n\u001b[1;32m    448\u001b[0m     arrays \u001b[38;5;241m=\u001b[39m [arr \u001b[38;5;28;01mif\u001b[39;00m \u001b[38;5;129;01mnot\u001b[39;00m \u001b[38;5;28misinstance\u001b[39m(arr, Index) \u001b[38;5;28;01melse\u001b[39;00m arr\u001b[38;5;241m.\u001b[39m_data \u001b[38;5;28;01mfor\u001b[39;00m arr \u001b[38;5;129;01min\u001b[39;00m arrays]\n\u001b[0;32m--> 449\u001b[0m     arrays \u001b[38;5;241m=\u001b[39m [\n\u001b[1;32m    450\u001b[0m         arr \u001b[38;5;28;01mif\u001b[39;00m \u001b[38;5;129;01mnot\u001b[39;00m is_datetime64tz_dtype(arr) \u001b[38;5;28;01melse\u001b[39;00m arr\u001b[38;5;241m.\u001b[39mcopy() \u001b[38;5;28;01mfor\u001b[39;00m arr \u001b[38;5;129;01min\u001b[39;00m arrays\n\u001b[1;32m    451\u001b[0m     ]\n\u001b[1;32m    453\u001b[0m \u001b[38;5;28;01mif\u001b[39;00m copy:\n\u001b[1;32m    454\u001b[0m     \u001b[38;5;66;03m# arrays_to_mgr (via form_blocks) won't make copies for EAs\u001b[39;00m\n\u001b[1;32m    455\u001b[0m     \u001b[38;5;66;03m# dtype attr check to exclude EADtype-castable strs\u001b[39;00m\n\u001b[1;32m    456\u001b[0m     arrays \u001b[38;5;241m=\u001b[39m [\n\u001b[1;32m    457\u001b[0m         x\n\u001b[1;32m    458\u001b[0m         \u001b[38;5;28;01mif\u001b[39;00m \u001b[38;5;129;01mnot\u001b[39;00m \u001b[38;5;28mhasattr\u001b[39m(x, \u001b[38;5;124m\"\u001b[39m\u001b[38;5;124mdtype\u001b[39m\u001b[38;5;124m\"\u001b[39m) \u001b[38;5;129;01mor\u001b[39;00m \u001b[38;5;129;01mnot\u001b[39;00m \u001b[38;5;28misinstance\u001b[39m(x\u001b[38;5;241m.\u001b[39mdtype, ExtensionDtype)\n\u001b[1;32m    459\u001b[0m         \u001b[38;5;28;01melse\u001b[39;00m x\u001b[38;5;241m.\u001b[39mcopy()\n\u001b[1;32m    460\u001b[0m         \u001b[38;5;28;01mfor\u001b[39;00m x \u001b[38;5;129;01min\u001b[39;00m arrays\n\u001b[1;32m    461\u001b[0m     ]\n",
      "File \u001b[0;32m~/sync/Typhoon-Impact-based-forecasting-model/venv/lib/python3.8/site-packages/pandas/core/internals/construction.py:450\u001b[0m, in \u001b[0;36m<listcomp>\u001b[0;34m(.0)\u001b[0m\n\u001b[1;32m    446\u001b[0m     \u001b[38;5;66;03m# GH#24096 need copy to be deep for datetime64tz case\u001b[39;00m\n\u001b[1;32m    447\u001b[0m     \u001b[38;5;66;03m# TODO: See if we can avoid these copies\u001b[39;00m\n\u001b[1;32m    448\u001b[0m     arrays \u001b[38;5;241m=\u001b[39m [arr \u001b[38;5;28;01mif\u001b[39;00m \u001b[38;5;129;01mnot\u001b[39;00m \u001b[38;5;28misinstance\u001b[39m(arr, Index) \u001b[38;5;28;01melse\u001b[39;00m arr\u001b[38;5;241m.\u001b[39m_data \u001b[38;5;28;01mfor\u001b[39;00m arr \u001b[38;5;129;01min\u001b[39;00m arrays]\n\u001b[1;32m    449\u001b[0m     arrays \u001b[38;5;241m=\u001b[39m [\n\u001b[0;32m--> 450\u001b[0m         arr \u001b[38;5;28;01mif\u001b[39;00m \u001b[38;5;129;01mnot\u001b[39;00m \u001b[43mis_datetime64tz_dtype\u001b[49m\u001b[43m(\u001b[49m\u001b[43marr\u001b[49m\u001b[43m)\u001b[49m \u001b[38;5;28;01melse\u001b[39;00m arr\u001b[38;5;241m.\u001b[39mcopy() \u001b[38;5;28;01mfor\u001b[39;00m arr \u001b[38;5;129;01min\u001b[39;00m arrays\n\u001b[1;32m    451\u001b[0m     ]\n\u001b[1;32m    453\u001b[0m \u001b[38;5;28;01mif\u001b[39;00m copy:\n\u001b[1;32m    454\u001b[0m     \u001b[38;5;66;03m# arrays_to_mgr (via form_blocks) won't make copies for EAs\u001b[39;00m\n\u001b[1;32m    455\u001b[0m     \u001b[38;5;66;03m# dtype attr check to exclude EADtype-castable strs\u001b[39;00m\n\u001b[1;32m    456\u001b[0m     arrays \u001b[38;5;241m=\u001b[39m [\n\u001b[1;32m    457\u001b[0m         x\n\u001b[1;32m    458\u001b[0m         \u001b[38;5;28;01mif\u001b[39;00m \u001b[38;5;129;01mnot\u001b[39;00m \u001b[38;5;28mhasattr\u001b[39m(x, \u001b[38;5;124m\"\u001b[39m\u001b[38;5;124mdtype\u001b[39m\u001b[38;5;124m\"\u001b[39m) \u001b[38;5;129;01mor\u001b[39;00m \u001b[38;5;129;01mnot\u001b[39;00m \u001b[38;5;28misinstance\u001b[39m(x\u001b[38;5;241m.\u001b[39mdtype, ExtensionDtype)\n\u001b[1;32m    459\u001b[0m         \u001b[38;5;28;01melse\u001b[39;00m x\u001b[38;5;241m.\u001b[39mcopy()\n\u001b[1;32m    460\u001b[0m         \u001b[38;5;28;01mfor\u001b[39;00m x \u001b[38;5;129;01min\u001b[39;00m arrays\n\u001b[1;32m    461\u001b[0m     ]\n",
      "File \u001b[0;32m~/sync/Typhoon-Impact-based-forecasting-model/venv/lib/python3.8/site-packages/pandas/core/dtypes/common.py:385\u001b[0m, in \u001b[0;36mis_datetime64tz_dtype\u001b[0;34m(arr_or_dtype)\u001b[0m\n\u001b[1;32m    383\u001b[0m \u001b[38;5;28;01mif\u001b[39;00m arr_or_dtype \u001b[38;5;129;01mis\u001b[39;00m \u001b[38;5;28;01mNone\u001b[39;00m:\n\u001b[1;32m    384\u001b[0m     \u001b[38;5;28;01mreturn\u001b[39;00m \u001b[38;5;28;01mFalse\u001b[39;00m\n\u001b[0;32m--> 385\u001b[0m \u001b[38;5;28;01mreturn\u001b[39;00m \u001b[43mDatetimeTZDtype\u001b[49m\u001b[38;5;241;43m.\u001b[39;49m\u001b[43mis_dtype\u001b[49m\u001b[43m(\u001b[49m\u001b[43marr_or_dtype\u001b[49m\u001b[43m)\u001b[49m\n",
      "File \u001b[0;32m~/sync/Typhoon-Impact-based-forecasting-model/venv/lib/python3.8/site-packages/pandas/core/dtypes/base.py:289\u001b[0m, in \u001b[0;36mExtensionDtype.is_dtype\u001b[0;34m(cls, dtype)\u001b[0m\n\u001b[1;32m    265\u001b[0m \u001b[38;5;124;03m\"\"\"\u001b[39;00m\n\u001b[1;32m    266\u001b[0m \u001b[38;5;124;03mCheck if we match 'dtype'.\u001b[39;00m\n\u001b[1;32m    267\u001b[0m \n\u001b[0;32m   (...)\u001b[0m\n\u001b[1;32m    285\u001b[0m \u001b[38;5;124;03m   conditions is true for ``dtype.dtype``.\u001b[39;00m\n\u001b[1;32m    286\u001b[0m \u001b[38;5;124;03m\"\"\"\u001b[39;00m\n\u001b[1;32m    287\u001b[0m dtype \u001b[38;5;241m=\u001b[39m \u001b[38;5;28mgetattr\u001b[39m(dtype, \u001b[38;5;124m\"\u001b[39m\u001b[38;5;124mdtype\u001b[39m\u001b[38;5;124m\"\u001b[39m, dtype)\n\u001b[0;32m--> 289\u001b[0m \u001b[38;5;28;01mif\u001b[39;00m \u001b[38;5;28;43misinstance\u001b[39;49m\u001b[43m(\u001b[49m\u001b[43mdtype\u001b[49m\u001b[43m,\u001b[49m\u001b[43m \u001b[49m\u001b[43m(\u001b[49m\u001b[43mABCSeries\u001b[49m\u001b[43m,\u001b[49m\u001b[43m \u001b[49m\u001b[43mABCIndex\u001b[49m\u001b[43m,\u001b[49m\u001b[43m \u001b[49m\u001b[43mABCDataFrame\u001b[49m\u001b[43m,\u001b[49m\u001b[43m \u001b[49m\u001b[43mnp\u001b[49m\u001b[38;5;241;43m.\u001b[39;49m\u001b[43mdtype\u001b[49m\u001b[43m)\u001b[49m\u001b[43m)\u001b[49m:\n\u001b[1;32m    290\u001b[0m     \u001b[38;5;66;03m# https://github.com/pandas-dev/pandas/issues/22960\u001b[39;00m\n\u001b[1;32m    291\u001b[0m     \u001b[38;5;66;03m# avoid passing data to `construct_from_string`. This could\u001b[39;00m\n\u001b[1;32m    292\u001b[0m     \u001b[38;5;66;03m# cause a FutureWarning from numpy about failing elementwise\u001b[39;00m\n\u001b[1;32m    293\u001b[0m     \u001b[38;5;66;03m# comparison from, e.g., comparing DataFrame == 'category'.\u001b[39;00m\n\u001b[1;32m    294\u001b[0m     \u001b[38;5;28;01mreturn\u001b[39;00m \u001b[38;5;28;01mFalse\u001b[39;00m\n\u001b[1;32m    295\u001b[0m \u001b[38;5;28;01melif\u001b[39;00m dtype \u001b[38;5;129;01mis\u001b[39;00m \u001b[38;5;28;01mNone\u001b[39;00m:\n",
      "File \u001b[0;32m~/sync/Typhoon-Impact-based-forecasting-model/venv/lib/python3.8/site-packages/pandas/core/dtypes/generic.py:43\u001b[0m, in \u001b[0;36mcreate_pandas_abc_type.<locals>._check\u001b[0;34m(cls, inst)\u001b[0m\n\u001b[1;32m     39\u001b[0m \u001b[38;5;28;01mdef\u001b[39;00m \u001b[38;5;21mcreate_pandas_abc_type\u001b[39m(name, attr, comp):\n\u001b[1;32m     40\u001b[0m \n\u001b[1;32m     41\u001b[0m     \u001b[38;5;66;03m# https://github.com/python/mypy/issues/1006\u001b[39;00m\n\u001b[1;32m     42\u001b[0m     \u001b[38;5;66;03m# error: 'classmethod' used with a non-method\u001b[39;00m\n\u001b[0;32m---> 43\u001b[0m     \u001b[38;5;129m@classmethod\u001b[39m  \u001b[38;5;66;03m# type: ignore[misc]\u001b[39;00m\n\u001b[1;32m     44\u001b[0m     \u001b[38;5;28;01mdef\u001b[39;00m \u001b[38;5;21m_check\u001b[39m(\u001b[38;5;28mcls\u001b[39m, inst) \u001b[38;5;241m-\u001b[39m\u001b[38;5;241m>\u001b[39m \u001b[38;5;28mbool\u001b[39m:\n\u001b[1;32m     45\u001b[0m         \u001b[38;5;28;01mreturn\u001b[39;00m \u001b[38;5;28mgetattr\u001b[39m(inst, attr, \u001b[38;5;124m\"\u001b[39m\u001b[38;5;124m_typ\u001b[39m\u001b[38;5;124m\"\u001b[39m) \u001b[38;5;129;01min\u001b[39;00m comp\n\u001b[1;32m     47\u001b[0m     dct \u001b[38;5;241m=\u001b[39m {\u001b[38;5;124m\"\u001b[39m\u001b[38;5;124m__instancecheck__\u001b[39m\u001b[38;5;124m\"\u001b[39m: _check, \u001b[38;5;124m\"\u001b[39m\u001b[38;5;124m__subclasscheck__\u001b[39m\u001b[38;5;124m\"\u001b[39m: _check}\n",
      "\u001b[0;31mKeyboardInterrupt\u001b[0m: "
     ]
    }
   ],
   "source": [
    "# Get list of filenames\n",
    "filename_list = sorted(list(Path(save_dir / \"xml\").glob('*.xml')))\n",
    "for filename in filename_list:\n",
    "    xml2csv(filename)"
   ]
  },
  {
   "cell_type": "markdown",
   "id": "93bb0820-ca17-4d56-aab8-3adaf813ff5f",
   "metadata": {},
   "source": [
    "## AKI CSVs"
   ]
  },
  {
   "cell_type": "code",
   "execution_count": null,
   "id": "a25a3746-3d84-4bd9-8c9f-ed6d3102040f",
   "metadata": {},
   "outputs": [],
   "source": []
  },
  {
   "cell_type": "code",
   "execution_count": 3,
   "id": "a8b92a22-ac21-4214-bb70-291077f2eb66",
   "metadata": {},
   "outputs": [],
   "source": [
    "import pandas as pd\n",
    "import xarray as xr"
   ]
  },
  {
   "cell_type": "code",
   "execution_count": 5,
   "id": "0a3b08fb-3054-47f5-879a-ecc403e22356",
   "metadata": {},
   "outputs": [],
   "source": [
    "data_dir = \"/home/turnerm/sync/aa_repo_data/Data/public/exploration/phl/ecmwf_forecast/CSVS2\""
   ]
  },
  {
   "cell_type": "code",
   "execution_count": 6,
   "id": "1959216f-13e6-42b1-adb3-fb33f85bd076",
   "metadata": {},
   "outputs": [],
   "source": [
    "typhoon_name = \"rai\"\n",
    "df = pd.read_csv(f\"{data_dir}/{typhoon_name}_all.csv\")"
   ]
  },
  {
   "cell_type": "code",
   "execution_count": null,
   "id": "88cb811d-5ef5-4a92-a5ad-5c72d3cb29e8",
   "metadata": {},
   "outputs": [],
   "source": [
    "track = xr.Dataset(\n",
    "    data_vars={\n",
    "        \"time_step\": (\"time\", np.full_like(df.forecast_time, 3, dtype=float)),\n",
    "        \"max_sustained_wind\": (\n",
    "            \"time\", df.cyc_speed,  # conversion from kn to meter/s\n",
    "        ),\n",
    "        #\"environmental_pressure\": (\n",
    "        #    \"time\",\n",
    "        #    [1010]*len(dta_dict['SID']),\n",
    "        #),\n",
    "        #\"central_pressure\": (\"time\", dta_dict['USA_PRES']),\n",
    "        \"lat\": (\"time\", df.lat),\n",
    "        \"lon\": (\"time\", df.lon),\n",
    "        #\"radius_max_wind\": (\"time\",dta_dict['USA_RMW']),\n",
    "        #\"radius_oci\": (\"time\", [np.nan]*len(dta_dict['USA_RMW'])),\n",
    "        \"basin\": (\"time\", ['WP']*len(df)),\n",
    "\n",
    "\n",
    "    },\n",
    "    coords={\"time\": pd.date_range(\"1980-01-01\", periods=len(dta_dict['SID']), freq=\"3H\"),},\n",
    "    attrs={\n",
    "        \"max_sustained_wind_unit\": \"m/s\",\n",
    "        \"central_pressure_unit\": \"mb\",\n",
    "        \"name\": typhoon,\n",
    "        \"sid\": typhoon,  # +str(forcast_df.ensemble_number),\n",
    "        \"orig_event_flag\": True,\n",
    "        \"data_provider\": 'ibtracs_usa',\n",
    "        \"id_no\": typhoon,\n",
    "        \"basin\": 'wp',\n",
    "        \"category\": dta_dict['Catagory'][0],         \n",
    "\n",
    "    },\n",
    ")\n",
    "track = track.set_coords([\"lat\", \"lon\"])"
   ]
  },
  {
   "cell_type": "code",
   "execution_count": null,
   "id": "f788ce75-0684-4a3d-9aa2-e7ac161a29ce",
   "metadata": {},
   "outputs": [],
   "source": [
    "\n",
    "    dta_dict=data.query('SID==@typhoon').to_dict('list') \n",
    "    track = xr.Dataset(\n",
    "        data_vars={\n",
    "            \"time_step\": (\"time\", np.full_like(dta_dict['Timestep'], 3, dtype=float)),\n",
    "            \"max_sustained_wind\": (\n",
    "                \"time\", dta_dict['USA_WIND'],  # conversion from kn to meter/s\n",
    "            ),\n",
    "            \"environmental_pressure\": (\n",
    "                \"time\",\n",
    "                [1010]*len(dta_dict['SID']),\n",
    "            ),\n",
    "            \"central_pressure\": (\"time\", dta_dict['USA_PRES']),\n",
    "            \"lat\": (\"time\", dta_dict['LAT']),\n",
    "            \"lon\": (\"time\", dta_dict['LON']),\n",
    "            \"radius_max_wind\": (\"time\",dta_dict['USA_RMW']),\n",
    "            \"radius_oci\": (\"time\", [np.nan]*len(dta_dict['USA_RMW'])),\n",
    "            \"basin\": (\"time\", ['WP']*len(dta_dict['USA_RMW'])),\n",
    "\n",
    "\n",
    "        },\n",
    "        coords={\"time\": pd.date_range(\"1980-01-01\", periods=len(dta_dict['SID']), freq=\"3H\"),},\n",
    "        attrs={\n",
    "            \"max_sustained_wind_unit\": \"m/s\",\n",
    "            \"central_pressure_unit\": \"mb\",\n",
    "            \"name\": typhoon,\n",
    "            \"sid\": typhoon,  # +str(forcast_df.ensemble_number),\n",
    "            \"orig_event_flag\": True,\n",
    "            \"data_provider\": 'ibtracs_usa',\n",
    "            \"id_no\": typhoon,\n",
    "            \"basin\": 'wp',\n",
    "            \"category\": dta_dict['Catagory'][0],         \n",
    "\n",
    "        },\n",
    "    )\n",
    "    track = track.set_coords([\"lat\", \"lon\"])\n",
    "    return track"
   ]
  }
 ],
 "metadata": {
  "kernelspec": {
   "display_name": "typhoon",
   "language": "python",
   "name": "typhoon"
  },
  "language_info": {
   "codemirror_mode": {
    "name": "ipython",
    "version": 3
   },
   "file_extension": ".py",
   "mimetype": "text/x-python",
   "name": "python",
   "nbconvert_exporter": "python",
   "pygments_lexer": "ipython3",
   "version": "3.8.10"
  }
 },
 "nbformat": 4,
 "nbformat_minor": 5
}
