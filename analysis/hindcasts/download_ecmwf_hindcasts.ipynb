{
 "cells": [
  {
   "cell_type": "markdown",
   "id": "47c17dcd-992a-40e6-9fb2-b5870a386561",
   "metadata": {},
   "source": [
    "## Download ECMWF xml"
   ]
  },
  {
   "cell_type": "code",
   "execution_count": 24,
   "id": "c686d0bd-5b1a-4df9-8a53-491f6452654e",
   "metadata": {},
   "outputs": [],
   "source": [
    "from pathlib import Path\n",
    "from datetime import datetime, timedelta\n",
    "\n",
    "import pandas as pd\n",
    "import xarray as xr\n",
    "import numpy as np"
   ]
  },
  {
   "cell_type": "code",
   "execution_count": 15,
   "id": "4049d1fa-7f65-41de-92d5-d29bc90c8bad",
   "metadata": {},
   "outputs": [],
   "source": [
    "save_dir = Path(\"/home/turnerm/sync/aa_repo_data/Data/public/exploration/phl/ecmwf_hindcast\")"
   ]
  },
  {
   "cell_type": "markdown",
   "id": "f0daafc8-56ab-4af3-b2d6-048f6224450f",
   "metadata": {
    "tags": []
   },
   "source": [
    "## Get typhoon names"
   ]
  },
  {
   "cell_type": "code",
   "execution_count": 16,
   "id": "433c65c3-30c7-4668-be8e-7ba7ebb5083b",
   "metadata": {},
   "outputs": [],
   "source": [
    "filename = \"../../IBF-Typhoon-model/data/wind_data/input/typhoon_events.csv\"\n",
    "df_typhoons = pd.read_csv(filename)\n",
    "df_typhoons.columns = [\"local\", \"international\", \"year\"]\n",
    "for cname in [\"local\", \"international\"]:\n",
    "    df_typhoons[cname] = df_typhoons[cname].str.lower()\n",
    "df_typhoons = df_typhoons.sort_values(by=[\"year\", \"international\"])"
   ]
  },
  {
   "cell_type": "markdown",
   "id": "4bcd0dca-396f-43b4-8451-90b15ef794fc",
   "metadata": {},
   "source": [
    "## Test with Durian"
   ]
  },
  {
   "cell_type": "code",
   "execution_count": 17,
   "outputs": [],
   "source": [
    "# Select a typhoon and a target date\n",
    "typhoon_name = \"durian\"\n",
    "landfall_date = datetime(2006, 11, 30, 12)"
   ],
   "metadata": {
    "collapsed": false,
    "pycharm": {
     "name": "#%%\n"
    }
   }
  },
  {
   "cell_type": "code",
   "execution_count": 18,
   "id": "cf3feb29-f8f9-4176-b3ec-44ebd4f0b9d9",
   "metadata": {},
   "outputs": [],
   "source": [
    "filename = save_dir / f\"csv/{typhoon_name}_all.csv\"\n",
    "forecast_date = landfall_date - timedelta(days=3)\n",
    "\n",
    "df = pd.read_csv(filename)\n",
    "for cname in [\"time\", \"forecast_time\"]:\n",
    "    df[cname] = pd.to_datetime(df[cname])\n",
    "df = df[df[\"mtype\"] == \"ensembleforecast\"]\n",
    "df = df[df[\"forecast_time\"] == forecast_date]"
   ]
  },
  {
   "cell_type": "code",
   "execution_count": 29,
   "outputs": [
    {
     "data": {
      "text/plain": "                 mtype product  cyc_number ensemble  speed  pressure  \\\n1185  ensembleforecast   ecmwf          25        0   13.3    1004.8   \n1186  ensembleforecast   ecmwf          25        0   13.6    1005.5   \n1187  ensembleforecast   ecmwf          25        0   13.5    1005.3   \n1188  ensembleforecast   ecmwf          25        0   13.6    1005.1   \n1189  ensembleforecast   ecmwf          25        0   21.3    1000.0   \n...                ...     ...         ...      ...    ...       ...   \n1741  ensembleforecast   ecmwf          25       50   20.0     999.8   \n1742  ensembleforecast   ecmwf          25       50   28.3     992.1   \n1743  ensembleforecast   ecmwf          25       50   36.7     984.1   \n1744  ensembleforecast   ecmwf          25       50   32.7     983.0   \n1745  ensembleforecast   ecmwf          25       50   39.5     976.3   \n\n                    time   lat    lon  lead_time       forecast_time  \n1185 2006-11-27 12:00:00   9.8  136.8          0 2006-11-27 12:00:00  \n1186 2006-11-28 00:00:00  10.4  134.2         12 2006-11-27 12:00:00  \n1187 2006-11-28 12:00:00  11.3  130.6         24 2006-11-27 12:00:00  \n1188 2006-11-29 00:00:00  12.6  128.5         36 2006-11-27 12:00:00  \n1189 2006-11-29 12:00:00  13.0  126.0         48 2006-11-27 12:00:00  \n...                  ...   ...    ...        ...                 ...  \n1741 2006-11-30 12:00:00  12.3  122.0         72 2006-11-27 12:00:00  \n1742 2006-12-01 00:00:00  12.3  119.9         84 2006-11-27 12:00:00  \n1743 2006-12-01 12:00:00  13.0  117.9         96 2006-11-27 12:00:00  \n1744 2006-12-02 00:00:00  13.0  115.8        108 2006-11-27 12:00:00  \n1745 2006-12-02 12:00:00  12.7  114.0        120 2006-11-27 12:00:00  \n\n[561 rows x 11 columns]",
      "text/html": "<div>\n<style scoped>\n    .dataframe tbody tr th:only-of-type {\n        vertical-align: middle;\n    }\n\n    .dataframe tbody tr th {\n        vertical-align: top;\n    }\n\n    .dataframe thead th {\n        text-align: right;\n    }\n</style>\n<table border=\"1\" class=\"dataframe\">\n  <thead>\n    <tr style=\"text-align: right;\">\n      <th></th>\n      <th>mtype</th>\n      <th>product</th>\n      <th>cyc_number</th>\n      <th>ensemble</th>\n      <th>speed</th>\n      <th>pressure</th>\n      <th>time</th>\n      <th>lat</th>\n      <th>lon</th>\n      <th>lead_time</th>\n      <th>forecast_time</th>\n    </tr>\n  </thead>\n  <tbody>\n    <tr>\n      <th>1185</th>\n      <td>ensembleforecast</td>\n      <td>ecmwf</td>\n      <td>25</td>\n      <td>0</td>\n      <td>13.3</td>\n      <td>1004.8</td>\n      <td>2006-11-27 12:00:00</td>\n      <td>9.8</td>\n      <td>136.8</td>\n      <td>0</td>\n      <td>2006-11-27 12:00:00</td>\n    </tr>\n    <tr>\n      <th>1186</th>\n      <td>ensembleforecast</td>\n      <td>ecmwf</td>\n      <td>25</td>\n      <td>0</td>\n      <td>13.6</td>\n      <td>1005.5</td>\n      <td>2006-11-28 00:00:00</td>\n      <td>10.4</td>\n      <td>134.2</td>\n      <td>12</td>\n      <td>2006-11-27 12:00:00</td>\n    </tr>\n    <tr>\n      <th>1187</th>\n      <td>ensembleforecast</td>\n      <td>ecmwf</td>\n      <td>25</td>\n      <td>0</td>\n      <td>13.5</td>\n      <td>1005.3</td>\n      <td>2006-11-28 12:00:00</td>\n      <td>11.3</td>\n      <td>130.6</td>\n      <td>24</td>\n      <td>2006-11-27 12:00:00</td>\n    </tr>\n    <tr>\n      <th>1188</th>\n      <td>ensembleforecast</td>\n      <td>ecmwf</td>\n      <td>25</td>\n      <td>0</td>\n      <td>13.6</td>\n      <td>1005.1</td>\n      <td>2006-11-29 00:00:00</td>\n      <td>12.6</td>\n      <td>128.5</td>\n      <td>36</td>\n      <td>2006-11-27 12:00:00</td>\n    </tr>\n    <tr>\n      <th>1189</th>\n      <td>ensembleforecast</td>\n      <td>ecmwf</td>\n      <td>25</td>\n      <td>0</td>\n      <td>21.3</td>\n      <td>1000.0</td>\n      <td>2006-11-29 12:00:00</td>\n      <td>13.0</td>\n      <td>126.0</td>\n      <td>48</td>\n      <td>2006-11-27 12:00:00</td>\n    </tr>\n    <tr>\n      <th>...</th>\n      <td>...</td>\n      <td>...</td>\n      <td>...</td>\n      <td>...</td>\n      <td>...</td>\n      <td>...</td>\n      <td>...</td>\n      <td>...</td>\n      <td>...</td>\n      <td>...</td>\n      <td>...</td>\n    </tr>\n    <tr>\n      <th>1741</th>\n      <td>ensembleforecast</td>\n      <td>ecmwf</td>\n      <td>25</td>\n      <td>50</td>\n      <td>20.0</td>\n      <td>999.8</td>\n      <td>2006-11-30 12:00:00</td>\n      <td>12.3</td>\n      <td>122.0</td>\n      <td>72</td>\n      <td>2006-11-27 12:00:00</td>\n    </tr>\n    <tr>\n      <th>1742</th>\n      <td>ensembleforecast</td>\n      <td>ecmwf</td>\n      <td>25</td>\n      <td>50</td>\n      <td>28.3</td>\n      <td>992.1</td>\n      <td>2006-12-01 00:00:00</td>\n      <td>12.3</td>\n      <td>119.9</td>\n      <td>84</td>\n      <td>2006-11-27 12:00:00</td>\n    </tr>\n    <tr>\n      <th>1743</th>\n      <td>ensembleforecast</td>\n      <td>ecmwf</td>\n      <td>25</td>\n      <td>50</td>\n      <td>36.7</td>\n      <td>984.1</td>\n      <td>2006-12-01 12:00:00</td>\n      <td>13.0</td>\n      <td>117.9</td>\n      <td>96</td>\n      <td>2006-11-27 12:00:00</td>\n    </tr>\n    <tr>\n      <th>1744</th>\n      <td>ensembleforecast</td>\n      <td>ecmwf</td>\n      <td>25</td>\n      <td>50</td>\n      <td>32.7</td>\n      <td>983.0</td>\n      <td>2006-12-02 00:00:00</td>\n      <td>13.0</td>\n      <td>115.8</td>\n      <td>108</td>\n      <td>2006-11-27 12:00:00</td>\n    </tr>\n    <tr>\n      <th>1745</th>\n      <td>ensembleforecast</td>\n      <td>ecmwf</td>\n      <td>25</td>\n      <td>50</td>\n      <td>39.5</td>\n      <td>976.3</td>\n      <td>2006-12-02 12:00:00</td>\n      <td>12.7</td>\n      <td>114.0</td>\n      <td>120</td>\n      <td>2006-11-27 12:00:00</td>\n    </tr>\n  </tbody>\n</table>\n<p>561 rows × 11 columns</p>\n</div>"
     },
     "execution_count": 29,
     "metadata": {},
     "output_type": "execute_result"
    }
   ],
   "source": [
    "df"
   ],
   "metadata": {
    "collapsed": false,
    "pycharm": {
     "name": "#%%\n"
    }
   }
  },
  {
   "cell_type": "code",
   "execution_count": null,
   "outputs": [],
   "source": [],
   "metadata": {
    "collapsed": false,
    "pycharm": {
     "name": "#%%\n"
    }
   }
  },
  {
   "cell_type": "code",
   "execution_count": 76,
   "outputs": [],
   "source": [
    "track_data = []\n",
    "\n",
    "for ensemble, group in df.groupby(\"ensemble\"):\n",
    "\n",
    "    time_step = (group[\"time\"].values[1] - group[\"time\"].values[0]).astype('timedelta64[h]')\n",
    "    time_step = pd.to_timedelta(time_step).total_seconds() / 3600\n",
    "\n",
    "    coords = dict(\n",
    "         time=([\"time\"], group[\"time\"]),\n",
    "    )\n",
    "    data_vars=dict(\n",
    "        max_sustained_wind=([\"time\"], group['speed']),\n",
    "        central_pressure=([\"time\"], group['pressure']),\n",
    "        lat=([\"time\"], group[\"lat\"]),\n",
    "        lon=([\"time\"], group[\"lon\"]),\n",
    "        time_step=([\"time\"], [time_step] * len(group))\n",
    "    )\n",
    "    attrs=dict(\n",
    "        max_sustained_wind_unit=\"m/s\",\n",
    "        central_pressure_unit=\"mb\",\n",
    "        name=typhoon_name.upper(),\n",
    "        data_provider=\"ECMWF\",\n",
    "        ensemble_number=ensemble,\n",
    "        is_ensemble=True,\n",
    "        forecast_time=forecast_date,\n",
    "        basin=\"W - North West Pacific\"\n",
    "    )\n",
    "\n",
    "    ds = xr.Dataset(data_vars=data_vars, coords=coords, attrs=attrs).set_coords([\"lat\", \"lon\"])\n",
    "    track_data.append(ds)"
   ],
   "metadata": {
    "collapsed": false,
    "pycharm": {
     "name": "#%%\n"
    }
   }
  },
  {
   "cell_type": "code",
   "execution_count": 78,
   "outputs": [
    {
     "data": {
      "text/plain": "51"
     },
     "execution_count": 78,
     "metadata": {},
     "output_type": "execute_result"
    }
   ],
   "source": [
    "len(track_data)"
   ],
   "metadata": {
    "collapsed": false,
    "pycharm": {
     "name": "#%%\n"
    }
   }
  },
  {
   "cell_type": "markdown",
   "source": [],
   "metadata": {
    "collapsed": false
   }
  },
  {
   "cell_type": "markdown",
   "source": [],
   "metadata": {
    "collapsed": false
   }
  },
  {
   "cell_type": "code",
   "execution_count": null,
   "outputs": [],
   "source": [],
   "metadata": {
    "collapsed": false,
    "pycharm": {
     "name": "#%%\n"
    }
   }
  },
  {
   "cell_type": "code",
   "execution_count": 69,
   "outputs": [
    {
     "data": {
      "text/plain": "12.0"
     },
     "execution_count": 69,
     "metadata": {},
     "output_type": "execute_result"
    }
   ],
   "source": [
    "time_step = (group[\"time\"].values[1] - group[\"time\"].values[0]).astype('timedelta64[h]')\n",
    "time_step = pd.to_timedelta(time_step).total_seconds() / 3600\n",
    "time_step"
   ],
   "metadata": {
    "collapsed": false,
    "pycharm": {
     "name": "#%%\n"
    }
   }
  },
  {
   "cell_type": "code",
   "execution_count": null,
   "outputs": [],
   "source": [],
   "metadata": {
    "collapsed": false,
    "pycharm": {
     "name": "#%%\n"
    }
   }
  }
 ],
 "metadata": {
  "kernelspec": {
   "display_name": "typhoon",
   "language": "python",
   "name": "typhoon"
  },
  "language_info": {
   "codemirror_mode": {
    "name": "ipython",
    "version": 3
   },
   "file_extension": ".py",
   "mimetype": "text/x-python",
   "name": "python",
   "nbconvert_exporter": "python",
   "pygments_lexer": "ipython3",
   "version": "3.8.10"
  }
 },
 "nbformat": 4,
 "nbformat_minor": 5
}